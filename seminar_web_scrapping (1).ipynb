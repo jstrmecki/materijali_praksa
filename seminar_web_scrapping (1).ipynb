{
 "cells": [
  {
   "cell_type": "code",
   "execution_count": 5,
   "metadata": {},
   "outputs": [],
   "source": [
    "from IPython.core.interactiveshell import InteractiveShell\n",
    "InteractiveShell.ast_node_interactivity = \"all\"\n"
   ]
  },
  {
   "cell_type": "markdown",
   "metadata": {
    "slideshow": {
     "slide_type": "slide"
    }
   },
   "source": [
    "Josip Strmečki\n",
    "# Korištenje regularnih izraza i BeautifoulSoup \n",
    "# modula u web scrappingu\n",
    "Seminarski rad iz Računalnog jezikoslovlja\n",
    "\n",
    "Mentor: prod.dr.sc Mario Essert\n",
    "U Osijeku, 26. veljače 2018. g"
   ]
  },
  {
   "cell_type": "markdown",
   "metadata": {
    "slideshow": {
     "slide_type": "slide"
    }
   },
   "source": [
    "### Cilj seminara: navesti potrebne alate, objasniti njihovu uporabu te na kraju dati program koji dohvaća informaciju o riječi sa Hrvatskog jezičnog portala"
   ]
  },
  {
   "cell_type": "markdown",
   "metadata": {
    "slideshow": {
     "slide_type": "slide"
    }
   },
   "source": [
    "## Korišteni alati: \n",
    "\n",
    "  ### 1. Python: programski jezik\n",
    "  ### 2. re: modul koji služi za pisanje i operacije s regularnim izrazima\n",
    "  ### 3. urllib.request i urllib.parse: moduli za otvaranje i dohvaćanje URL-a\n",
    "  ### 4. BeautifulSoup: modul koji služi za dohvaćanje HTML i XML datoteka\n",
    "    "
   ]
  },
  {
   "cell_type": "markdown",
   "metadata": {
    "slideshow": {
     "slide_type": "slide"
    }
   },
   "source": [
    "## Regularni izrazi (regex)\n",
    "### - niz znakova koji definiraju uzorak prema kojem pretražujemo string\n",
    "### - u Pythonu: re modul\n",
    "\n"
   ]
  },
  {
   "cell_type": "markdown",
   "metadata": {
    "slideshow": {
     "slide_type": "slide"
    }
   },
   "source": [
    "## Neke najčešće korištene funkcije:\n",
    "#### 1. re.search(pattern, string, flags=0) : prlazi kroz string i pronalazi prvu lokaciju gdje se uzorak (pattern) i string podudaraju, i vraća odgovarajući pronađeni objekt. Ukoliko ne nađe ništa vraća None\n",
    "#### 2. re.match(pattern, string, flags=0) : radi slično kao i search, ali gleda podudaranje samo na početku stringa\n",
    "#### 3. re.split(pattern, string, maxsplit=0, flags=0) : dijeli string s obzirom na pojavljivanje uzorka (pattern)\n",
    "#### 4. re.sub(pattern, repl, string, count=0, flags=0) : vraća string u kojem je sve dijelove koji odgovaraju uzorku zamijenio s danim stringom (repl)\n"
   ]
  },
  {
   "cell_type": "code",
   "execution_count": 6,
   "metadata": {
    "slideshow": {
     "slide_type": "slide"
    }
   },
   "outputs": [
    {
     "name": "stdout",
     "output_type": "stream",
     "text": [
      "No match!!\n",
      "search --> :  pasa\n"
     ]
    }
   ],
   "source": [
    "## Primjeri:\n",
    "import re\n",
    "\n",
    "line = \"Mačke su pametnije od pasa\";\n",
    "\n",
    "matchObj = re.match( r'pasa', line)\n",
    "if matchObj:\n",
    "   print (\"match --> : \", matchObj.group())\n",
    "else:\n",
    "   print (\"No match!!\")\n",
    "\n",
    "searchObj = re.search( r'pasa', line)\n",
    "if searchObj:\n",
    "   print (\"search --> : \", searchObj.group())\n",
    "else:\n",
    "   print (\"Nothing found!!\")"
   ]
  },
  {
   "cell_type": "code",
   "execution_count": 7,
   "metadata": {
    "slideshow": {
     "slide_type": "slide"
    }
   },
   "outputs": [
    {
     "name": "stdout",
     "output_type": "stream",
     "text": [
      "<_sre.SRE_Match object; span=(0, 24), match='josip.strmecki@gmail.com'>\n",
      "None\n",
      "None\n",
      "<_sre.SRE_Match object; span=(0, 10), match='marko@b.mb'>\n"
     ]
    }
   ],
   "source": [
    "#Primjer regex-a koji provjerava da li je dana e-mail adresa ispravna\n",
    "import re\n",
    "adrese = ['josip.strmecki@gmail.com', 'pero@knjige.knjiga', '..@..com', 'marko@b.mb']\n",
    "regex = re.compile(r'^[\\w -\\.]+@([\\w-]+\\.)+[\\w-]{2,4}$')\n",
    "for adresa in adrese:\n",
    "    print(regex.match(adresa))\n",
    "\n",
    "#Vidimo da su druga i četvrta e-mail adresa ispravne, druga nije jer ima domenu dužu od 4 slova, \n",
    "#a treća jer  se sastoji od točaka"
   ]
  },
  {
   "cell_type": "code",
   "execution_count": 12,
   "metadata": {
    "slideshow": {
     "slide_type": "slide"
    }
   },
   "outputs": [
    {
     "data": {
      "text/plain": [
       "'A string of HTML'"
      ]
     },
     "execution_count": 12,
     "metadata": {},
     "output_type": "execute_result"
    }
   ],
   "source": [
    "#Primjer regexa koji smo koristili u programskom zadatku\n",
    "#koji za dani HTML vraća samo tekst unutar tagova\n",
    "import re\n",
    "s = \"<div>A <href='/some-url'>string <b>of</b> HTML</a></div>\"\n",
    "regex = re.compile(r'<.*?>')\n",
    "regex.sub('', s)"
   ]
  },
  {
   "cell_type": "markdown",
   "metadata": {
    "slideshow": {
     "slide_type": "slide"
    }
   },
   "source": [
    "## urllib.request i urllib.parse\n",
    "### 1. urllib.request.urlopen(url[, data][, timeout]) : otvara URL url koji može biti string ili zahtjev (objekt)\n",
    "### 2. urllib.parse : razdvaja URL na komponente "
   ]
  },
  {
   "cell_type": "markdown",
   "metadata": {
    "slideshow": {
     "slide_type": "slide"
    }
   },
   "source": [
    "## Beautiful Soup (bs4 modul)\n",
    "### - koristimo ga za rad s HTML i XML datotekama \n",
    "### - instalacija: easy_install beautifulsoup4, pip install beautifulsoup4\n",
    "### __[Beautiful Soup dokumentacija](https://www.crummy.com/software/BeautifulSoup/bs4/doc/#installing-beautiful-soup)__\n"
   ]
  },
  {
   "cell_type": "code",
   "execution_count": 14,
   "metadata": {
    "scrolled": true,
    "slideshow": {
     "slide_type": "slide"
    }
   },
   "outputs": [
    {
     "name": "stdout",
     "output_type": "stream",
     "text": [
      "<html>\n",
      " <head>\n",
      "  <title>\n",
      "   Primjer\n",
      "  </title>\n",
      " </head>\n",
      " <body>\n",
      "  <p class=\"title\">\n",
      "   <b>\n",
      "    BS4\n",
      "   </b>\n",
      "  </p>\n",
      "  <p class=\"dokumentacija\">\n",
      "   Navodimo 3 izvora informacija; i oni su\n",
      "   <a class=\"tekst\" href=\"https://www.crummy.com/software/BeautifulSoup/bs4/doc/\" id=\"link1\">\n",
      "    dokument1\n",
      "   </a>\n",
      "   ,\n",
      "   <a class=\"tekst\" href=\"https://pypi.python.org/pypi/beautifulsoup4\" id=\"link2\">\n",
      "    dokument2\n",
      "   </a>\n",
      "   and\n",
      "   <a class=\"tekst\" href=\"http://www.pythonforbeginners.com/beautifulsoup/\" id=\"link3\">\n",
      "    dokument3\n",
      "   </a>\n",
      "  </p>\n",
      "  <p class=\"dokumentacija\">\n",
      "   ...\n",
      "  </p>\n",
      " </body>\n",
      "</html>\n"
     ]
    }
   ],
   "source": [
    "#Primjer\n",
    "html_doc = \"\"\"\n",
    "<html><head><title>Primjer</title></head>\n",
    "<body>\n",
    "<p class=\"title\"><b>BS4</b></p>\n",
    "\n",
    "<p class=\"dokumentacija\">Navodimo 3 izvora informacija; i oni su\n",
    "<a href=\"https://www.crummy.com/software/BeautifulSoup/bs4/doc/\" class=\"tekst\" id=\"link1\">dokument1</a>,\n",
    "<a href=\"https://pypi.python.org/pypi/beautifulsoup4\" class=\"tekst\" id=\"link2\">dokument2</a> and\n",
    "<a href=\"http://www.pythonforbeginners.com/beautifulsoup/\" class=\"tekst\" id=\"link3\">dokument3</a>\n",
    "</p>\n",
    "\n",
    "<p class=\"dokumentacija\">...</p>\n",
    "\"\"\"\n",
    "from bs4 import BeautifulSoup\n",
    "bs4_objekt = BeautifulSoup(html_doc, 'lxml')\n",
    "\n",
    "print(bs4_objekt.prettify())"
   ]
  },
  {
   "cell_type": "markdown",
   "metadata": {
    "slideshow": {
     "slide_type": "slide"
    }
   },
   "source": [
    "### Naredbom soup =  BeautifulSoup(html_doc, 'lxml') pretvaramo MTHL dokument u BeautifulSoup objekt, koji pretvara dokument u ugniježđenu  strukturu podataka. \n",
    "### Na sljedećem slajdu navodimo kako izvlačimo podatke iz takve strukture"
   ]
  },
  {
   "cell_type": "code",
   "execution_count": 16,
   "metadata": {
    "slideshow": {
     "slide_type": "slide"
    }
   },
   "outputs": [
    {
     "data": {
      "text/plain": [
       "<title>Primjer</title>"
      ]
     },
     "execution_count": 16,
     "metadata": {},
     "output_type": "execute_result"
    },
    {
     "data": {
      "text/plain": [
       "'title'"
      ]
     },
     "execution_count": 16,
     "metadata": {},
     "output_type": "execute_result"
    },
    {
     "data": {
      "text/plain": [
       "'Primjer'"
      ]
     },
     "execution_count": 16,
     "metadata": {},
     "output_type": "execute_result"
    },
    {
     "data": {
      "text/plain": [
       "[<a class=\"tekst\" href=\"https://www.crummy.com/software/BeautifulSoup/bs4/doc/\" id=\"link1\">dokument1</a>,\n",
       " <a class=\"tekst\" href=\"https://pypi.python.org/pypi/beautifulsoup4\" id=\"link2\">dokument2</a>,\n",
       " <a class=\"tekst\" href=\"http://www.pythonforbeginners.com/beautifulsoup/\" id=\"link3\">dokument3</a>]"
      ]
     },
     "execution_count": 16,
     "metadata": {},
     "output_type": "execute_result"
    }
   ],
   "source": [
    "#Naslov\n",
    "bs4_objekt.title\n",
    "#Ime taga\n",
    "bs4_objekt.title.name\n",
    "#Tekst naslova\n",
    "bs4_objekt.title.string\n",
    "#Lista svih elemenata koji imaju <a> tag:\n",
    "bs4_objekt.find_all('a')"
   ]
  },
  {
   "cell_type": "code",
   "execution_count": 19,
   "metadata": {
    "slideshow": {
     "slide_type": "slide"
    }
   },
   "outputs": [
    {
     "name": "stdout",
     "output_type": "stream",
     "text": [
      "https://www.crummy.com/software/BeautifulSoup/bs4/doc/\n",
      "https://pypi.python.org/pypi/beautifulsoup4\n",
      "http://www.pythonforbeginners.com/beautifulsoup/\n"
     ]
    }
   ],
   "source": [
    "#Jedan od čestih zadataka je traženje svih URL-ova s tagom <a>\n",
    "for link in bs4_objekt.find_all('a'):\n",
    "    print(link.get('href'))\n"
   ]
  },
  {
   "cell_type": "code",
   "execution_count": 23,
   "metadata": {
    "slideshow": {
     "slide_type": "slide"
    }
   },
   "outputs": [
    {
     "name": "stdout",
     "output_type": "stream",
     "text": [
      "Primjer\n",
      "\n",
      "BS4\n",
      "Navodimo 3 izvora informacija; i oni su\n",
      "dokument1,\n",
      "dokument2 and\n",
      "dokument3\n",
      "\n",
      "...\n",
      "\n",
      "Primjer\n",
      "\n",
      "BS4\n",
      "Navodimo 3 izvora informacija; i oni su\n",
      "dokument1,\n",
      "dokument2 and\n",
      "dokument3\n",
      "\n",
      "...\n",
      "\n"
     ]
    }
   ],
   "source": [
    "#Sljedeći zadatak nam je printanje teksta sa stranice.\n",
    "#To radimo pomoću .get_text() funkcije\n",
    "#no možemo napisati i regularni izraz koji nam vraća isto to\n",
    "\n",
    "print(bs4_objekt.get_text())\n",
    "print(re.sub(r'<.*?>','',str(bs4_objekt)))"
   ]
  },
  {
   "cell_type": "code",
   "execution_count": 4,
   "metadata": {
    "slideshow": {
     "slide_type": "slide"
    }
   },
   "outputs": [
    {
     "name": "stdout",
     "output_type": "stream",
     "text": [
      "pȕt \n",
      "\n",
      "pȕt ž 〈G pȕti〉\n",
      "\n",
      "\n",
      "1. ljudsko tijelo kao ukupnost vanjskih fizičkih svojstava i osjećajnosti [mlada put; gladna put] 2. boja kože [svijetla put; tamna put; crna put]; ten 3. tjelesnost, putenost, spolnost [put je slaba, a duh čvrst] \n",
      "\n",
      "\n",
      "jednina\n",
      "\t\t\t\t\n",
      "\n",
      "\n",
      "\n",
      "\t\t\t\tN\n",
      "\t\t\t\n",
      "\n",
      "\t\t\t\tput\n",
      "\t\t\t\n",
      "\n",
      "\n",
      "\n",
      "\t\t\t\tG\n",
      "\t\t\t\n",
      "\n",
      "\t\t\t\tputi\n",
      "\t\t\t\n",
      "\n",
      "\n",
      "\n",
      "\t\t\t\tD\n",
      "\t\t\t\n",
      "\n",
      "\t\t\t\tputi\n",
      "\t\t\t\n",
      "\n",
      "\n",
      "\n",
      "\t\t\t\tA\n",
      "\t\t\t\n",
      "\n",
      "\t\t\t\tput\n",
      "\t\t\t\n",
      "\n",
      "\n",
      "\n",
      "\t\t\t\tV\n",
      "\t\t\t\n",
      "\n",
      "\t\t\t\tputi\n",
      "\t\t\t\n",
      "\n",
      "\n",
      "\n",
      "\t\t\t\tL\n",
      "\t\t\t\n",
      "\n",
      "\t\t\t\tputi\n",
      "\t\t\t\n",
      "\n",
      "\n",
      "\n",
      "\t\t\t\tI\n",
      "\t\t\t\n",
      "\n",
      "\t\t\t\tputi / putju\n",
      "\t\t\t\n",
      "\n",
      "\n",
      "\n",
      "\t\t\t\t\tmnožina\n",
      "\t\t\t\t\n",
      "\n",
      "\n",
      "\n",
      "\t\t\t\tN\n",
      "\t\t\t\n",
      "\n",
      "\t\t\t\tputi\n",
      "\t\t\t\n",
      "\n",
      "\n",
      "\n",
      "\t\t\t\tG\n",
      "\t\t\t\n",
      "\n",
      "\t\t\t\tputi\n",
      "\t\t\t\n",
      "\n",
      "\n",
      "\n",
      "\t\t\t\tD\n",
      "\t\t\t\n",
      "\n",
      "\t\t\t\tputima\n",
      "\t\t\t\n",
      "\n",
      "\n",
      "\n",
      "\t\t\t\tA\n",
      "\t\t\t\n",
      "\n",
      "\t\t\t\tputi\n",
      "\t\t\t\n",
      "\n",
      "\n",
      "\n",
      "\t\t\t\tV\n",
      "\t\t\t\n",
      "\n",
      "\t\t\t\tputi\n",
      "\t\t\t\n",
      "\n",
      "\n",
      "\n",
      "\t\t\t\tL\n",
      "\t\t\t\n",
      "\n",
      "\t\t\t\tputima\n",
      "\t\t\t\n",
      "\n",
      "\n",
      "\n",
      "\t\t\t\tI\n",
      "\t\t\t\n",
      "\n",
      "\t\t\t\tputima\n",
      "\t\t\t\n",
      "\n",
      "\n",
      "\n",
      "\t\t\t\t\tjednina\n",
      "\t\t\t\t\n",
      "\n",
      "\n",
      "\n",
      "\t\t\t\tN\n",
      "\t\t\t\n",
      "\n",
      "\t\t\t\tput\n",
      "\t\t\t\n",
      "\n",
      "\n",
      "\n",
      "\t\t\t\tG\n",
      "\t\t\t\n",
      "\n",
      "\t\t\t\tputa\n",
      "\t\t\t\n",
      "\n",
      "\n",
      "\n",
      "\t\t\t\tD\n",
      "\t\t\t\n",
      "\n",
      "\t\t\t\tputu\n",
      "\t\t\t\n",
      "\n",
      "\n",
      "\n",
      "\t\t\t\tA\n",
      "\t\t\t\n",
      "\n",
      "\t\t\t\tput\n",
      "\t\t\t\n",
      "\n",
      "\n",
      "\n",
      "\t\t\t\tV\n",
      "\t\t\t\n",
      "\n",
      "\t\t\t\tpute\n",
      "\t\t\t\n",
      "\n",
      "\n",
      "\n",
      "\t\t\t\tL\n",
      "\t\t\t\n",
      "\n",
      "\t\t\t\tputu\n",
      "\t\t\t\n",
      "\n",
      "\n",
      "\n",
      "\t\t\t\tI\n",
      "\t\t\t\n",
      "\n",
      "\t\t\t\tputom\n",
      "\t\t\t\n",
      "\n",
      "\n",
      "\n",
      "\t\t\t\t\tmnožina\n",
      "\t\t\t\t\n",
      "\n",
      "\n",
      "\n",
      "\t\t\t\tN\n",
      "\t\t\t\n",
      "\n",
      "\t\t\t\tputovi\n",
      "\t\t\t\n",
      "\n",
      "\n",
      "\n",
      "\t\t\t\tG\n",
      "\t\t\t\n",
      "\n",
      "\t\t\t\tputova\n",
      "\t\t\t\n",
      "\n",
      "\n",
      "\n",
      "\t\t\t\tD\n",
      "\t\t\t\n",
      "\n",
      "\t\t\t\tputovima\n",
      "\t\t\t\n",
      "\n",
      "\n",
      "\n",
      "\t\t\t\tA\n",
      "\t\t\t\n",
      "\n",
      "\t\t\t\tputove\n",
      "\t\t\t\n",
      "\n",
      "\n",
      "\n",
      "\t\t\t\tV\n",
      "\t\t\t\n",
      "\n",
      "\t\t\t\tputovi\n",
      "\t\t\t\n",
      "\n",
      "\n",
      "\n",
      "\t\t\t\tL\n",
      "\t\t\t\n",
      "\n",
      "\t\t\t\tputovima\n",
      "\t\t\t\n",
      "\n",
      "\n",
      "\n",
      "\t\t\t\tI\n",
      "\t\t\t\n",
      "\n",
      "\t\t\t\tputovima\n",
      "----------------------------------------------------------\n",
      "pẉt  (I) \n",
      "\n",
      "pẉt  (I) m 〈G púta, I pútem/pútom, N mn pútevi/pútovi/púti knjiš., G pútēvā/pútōvā〉\n",
      "\n",
      "\n",
      "1. a. utaban i utrt dio zemlje koji služi za prolaženje i kretanje [seoski put; kolni put] b. prostor po kome se ili kroz koji se odvija kretanje i javni promet [morski put; vodeni put; zračni put] 2. a. veza s dalekim krajevima [put svile] b. cesta 3. način, sredstvo, mogućnost da se dođe do čega [ima puta i načina] 4.  (ob. mn) anat. organ u obliku kanala kojim se vrši kakva fiziološka funkcija [dišni putevi] 5. odlazak i boravak izvan svoga mjesta (radi posla, upoznavanja, proučavanja, sporta i sl.); putovanje [krenuti na put; otići na put; biti na putu] 6. smjer kretanja, aktivnosti, razvitka itd. [pokazati put; naći pravi put] 7. putanja, staza, trag koji se konstruira, zamišlja ili predočuje kao kretanje nekog tijela i sl. [put nebeskog tijela] \n",
      "\n",
      "\n",
      "jednina\n",
      "\t\t\t\t\n",
      "\n",
      "\n",
      "\n",
      "\t\t\t\tN\n",
      "\t\t\t\n",
      "\n",
      "\t\t\t\tput\n",
      "\t\t\t\n",
      "\n",
      "\n",
      "\n",
      "\t\t\t\tG\n",
      "\t\t\t\n",
      "\n",
      "\t\t\t\tputa\n",
      "\t\t\t\n",
      "\n",
      "\n",
      "\n",
      "\t\t\t\tD\n",
      "\t\t\t\n",
      "\n",
      "\t\t\t\tputu\n",
      "\t\t\t\n",
      "\n",
      "\n",
      "\n",
      "\t\t\t\tA\n",
      "\t\t\t\n",
      "\n",
      "\t\t\t\tput\n",
      "\t\t\t\n",
      "\n",
      "\n",
      "\n",
      "\t\t\t\tV\n",
      "\t\t\t\n",
      "\n",
      "\t\t\t\tpute\n",
      "\t\t\t\n",
      "\n",
      "\n",
      "\n",
      "\t\t\t\tL\n",
      "\t\t\t\n",
      "\n",
      "\t\t\t\tputu\n",
      "\t\t\t\n",
      "\n",
      "\n",
      "\n",
      "\t\t\t\tI\n",
      "\t\t\t\n",
      "\n",
      "\t\t\t\tputom / putem\n",
      "\t\t\t\n",
      "\n",
      "\n",
      "\n",
      "\t\t\t\t\tmnožina\n",
      "\t\t\t\t\n",
      "\n",
      "\n",
      "\n",
      "\t\t\t\tN\n",
      "\t\t\t\n",
      "\n",
      "\t\t\t\tputovi / putevi / puti\n",
      "\t\t\t\n",
      "\n",
      "\n",
      "\n",
      "\t\t\t\tG\n",
      "\t\t\t\n",
      "\n",
      "\t\t\t\tputova / puteva\n",
      "\t\t\t\n",
      "\n",
      "\n",
      "\n",
      "\t\t\t\tD\n",
      "\t\t\t\n",
      "\n",
      "\t\t\t\tputovima / putevima\n",
      "\t\t\t\n",
      "\n",
      "\n",
      "\n",
      "\t\t\t\tA\n",
      "\t\t\t\n",
      "\n",
      "\t\t\t\tputove / puteve\n",
      "\t\t\t\n",
      "\n",
      "\n",
      "\n",
      "\t\t\t\tV\n",
      "\t\t\t\n",
      "\n",
      "\t\t\t\tputovi / putevi\n",
      "\t\t\t\n",
      "\n",
      "\n",
      "\n",
      "\t\t\t\tL\n",
      "\t\t\t\n",
      "\n",
      "\t\t\t\tputovima / putevima\n",
      "\t\t\t\n",
      "\n",
      "\n",
      "\n",
      "\t\t\t\tI\n",
      "\t\t\t\n",
      "\n",
      "\t\t\t\tputovima / putevima\n",
      "----------------------------------------------------------\n",
      "pẉt  (II) \n",
      "\n",
      "pẉt  (II) prij. (s G)\n",
      "\n",
      "\n",
      "\t\t\t\tpokazuje pravac prema komu, čemu [ulica Put Kotlara (krenuli smo) put kuće (vozimo se) put sela; krenuo put grada]; k, prema, u pravcu, u smjeru \n",
      "            \n",
      "\n",
      "Riječ nema izvedenih oblika.\n",
      "----------------------------------------------------------\n",
      "pẉt  (III) \n",
      "\n",
      "pẉt  (III) (pútā) pril. čest.\n",
      "\n",
      "\n",
      "1. u vezi s pridjevima, rednim brojevima i pokaznim zamjenicama pokazuje poredak u nizu drugih radnji ili zbivanja [ovaj put; posljednji put] 2. u vezi s glavnim brojevima, većim od dva, i drugim riječima za količinu pokazuje ponavljanje radnje [pet puta; mnogo puta; svaki put] 3.  (-put) s brojevima od 1 do 4 kaže jednostrukost, dvostrukost, trostrukost ili četverostrukost [jedanput itd.] 4.  (puta) pri računskoj radnji množenja pokazuje s kolikim se brojem množi [dva puta dva 2 x 2] \n",
      "\n",
      "\n",
      "Riječ nema izvedenih oblika.\n",
      "----------------------------------------------------------\n"
     ]
    }
   ],
   "source": [
    "from urllib.request import urlopen, Request\n",
    "from urllib.parse import urlencode\n",
    "import re     \n",
    "from bs4 import BeautifulSoup \n",
    "\n",
    "#unos tražene riječi\n",
    "rijec = 'put'\n",
    "\n",
    "#postavljanje ULR i parametara za zahtjev\n",
    "url = \"http://hjp.znanje.hr/index.php?show=search\"\n",
    "parametri = urlencode({'word':rijec})\n",
    "parametri = parametri.encode('utf-8')\n",
    "zahtjev = Request(url, parametri)\n",
    "#otvaramo stranicu s gornjim parametrima\n",
    "stranica = urlopen(zahtjev)\n",
    "sadrzaj = stranica.read()\n",
    "stranica.close()    \n",
    "soup = BeautifulSoup(sadrzaj, 'lxml')\n",
    "\n",
    "\n",
    "def hasMultipleChoices(soup):\n",
    "\twords = soup.find(\"div\", {'class': 'container content grey'})\n",
    "\tword_links = words.find_all(\"a\")\n",
    "\tword_links = [word_link for word_link in word_links if \"detaljnije\" in word_link]\n",
    "\treturn word_links\n",
    "\n",
    "def definicija(soup):\n",
    "\tdefinicija = soup.find(\"div\", {'id': 'definicija'})\n",
    "\treturn definicija.get_text()\n",
    "\n",
    "def izvedeni_oblici(soup):\n",
    "    izvedeni_oblici = soup.find(\"div\", {'id': \"izvedeni-oblici\"})\n",
    "    #izvedeni_oblici = izvedeni_oblici.get_text()\n",
    "    table = izvedeni_oblici.find('table')\n",
    "    try:\n",
    "        return table.get_text().strip()\n",
    "    except:\n",
    "        return 'Riječ nema izvedenih oblika.'\n",
    "\n",
    "def naslov(soup):\n",
    "    naslov = soup.find(\"div\", {'class': 'container content grey'}).find('div', {'class': 'row'})\n",
    "    return naslov.get_text().strip()\n",
    "\n",
    "\n",
    "if __name__ == \"__main__\":\n",
    "    links =  hasMultipleChoices(soup)\n",
    "    if links:\n",
    "        'http://hjp.znanje.hr/index.php?show=search_by_id&id=dl1hWxk%3D'\n",
    "        for link in links:\n",
    "\n",
    "            zahtjev = Request('http://hjp.znanje.hr/'+link.get('href'))\n",
    "            stranica = urlopen(zahtjev)\n",
    "            sadrzaj = stranica.read()\n",
    "            stranica.close()    \n",
    "            soup = BeautifulSoup(sadrzaj, 'lxml')\n",
    "            print(naslov(soup))\n",
    "            print(definicija(soup))\n",
    "            print(izvedeni_oblici(soup))\n",
    "            print('----------------------------------------------------------')\n",
    "    else:\n",
    "        print(naslov(soup))\n",
    "        print(definicija(soup))\n",
    "        print(izvedeni_oblici(soup))"
   ]
  },
  {
   "cell_type": "code",
   "execution_count": null,
   "metadata": {},
   "outputs": [],
   "source": []
  }
 ],
 "metadata": {
  "celltoolbar": "Slideshow",
  "kernelspec": {
   "display_name": "Python 3",
   "language": "python",
   "name": "python3"
  },
  "language_info": {
   "codemirror_mode": {
    "name": "ipython",
    "version": 3
   },
   "file_extension": ".py",
   "mimetype": "text/x-python",
   "name": "python",
   "nbconvert_exporter": "python",
   "pygments_lexer": "ipython3",
   "version": "3.6.5"
  },
  "widgets": {
   "application/vnd.jupyter.widget-state+json": {
    "state": {},
    "version_major": 2,
    "version_minor": 0
   }
  }
 },
 "nbformat": 4,
 "nbformat_minor": 2
}
